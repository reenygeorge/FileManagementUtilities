{
  "nbformat": 4,
  "nbformat_minor": 0,
  "metadata": {
    "colab": {
      "name": "Copy of Untitled0.ipynb",
      "provenance": [],
      "collapsed_sections": [],
      "authorship_tag": "ABX9TyPKfeb5FzN5166z2m4JpM+g",
      "include_colab_link": true
    },
    "kernelspec": {
      "name": "python3",
      "display_name": "Python 3"
    },
    "language_info": {
      "name": "python"
    }
  },
  "cells": [
    {
      "cell_type": "markdown",
      "metadata": {
        "id": "view-in-github",
        "colab_type": "text"
      },
      "source": [
        "<a href=\"https://colab.research.google.com/github/reenygeorge/FileManagementUtilities/blob/master/file_management.ipynb\" target=\"_parent\"><img src=\"https://colab.research.google.com/assets/colab-badge.svg\" alt=\"Open In Colab\"/></a>"
      ]
    },
    {
      "cell_type": "code",
      "source": [
        "#@title Clone the GITHub repo { form-width: \"20%\" }\n",
        "\n",
        "#@markdown **Note:** Please press on 'show code'; replace 'username' and 'access_token' in the code line with your saved settings and then press the _Play_ button to execute this cell.\n",
        "\n",
        "#@markdown This mounts the github repo on which the relevant code reside. \n",
        "\n",
        "!git clone -b master https://github.com/reenygeorge/FileManagementUtilities\n"
      ],
      "metadata": {
        "cellView": "form",
        "id": "MgFQajolP7P3"
      },
      "execution_count": null,
      "outputs": []
    },
    {
      "cell_type": "code",
      "source": [
        "#@title Manadatory set up code { form-width: \"20%\" }\n",
        "%load_ext rpy2.ipython\n",
        "%cd /content/"
      ],
      "metadata": {
        "id": "ebFR5D9BHBlB",
        "cellView": "form"
      },
      "execution_count": null,
      "outputs": []
    },
    {
      "cell_type": "code",
      "source": [
        "#@title Manadatory set up code { form-width: \"20%\" }\n",
        "%%R\n",
        "source('/content/FileManagementUtilities/code/Revtools.R')\n"
      ],
      "metadata": {
        "id": "mVsrNq34QQLA",
        "cellView": "form"
      },
      "execution_count": null,
      "outputs": []
    },
    {
      "cell_type": "code",
      "source": [
        "#@title Convert RIS to CSV { form-width: \"20%\" }\n",
        "#@markdown **Note:** Please name the input file as 'input_data.ris' and upload. The converted file will be named 'input_converted.csv' \n",
        "\n",
        "%%R\n",
        "convert_ris_csv <- function(inFname, outFname){\n",
        "  df <- read_bibliography(inFname)\n",
        "  print(nrow(df))\n",
        "  write.csv(df, outFname, row.names = FALSE)\n",
        "}\n",
        "convert_ris_csv('input_data.ris', 'input_converted.csv')"
      ],
      "metadata": {
        "cellView": "form",
        "id": "jmtfXg4CQrMe"
      },
      "execution_count": null,
      "outputs": []
    },
    {
      "cell_type": "code",
      "source": [
        "#@title Convert CSV to RIS { form-width: \"20%\" }\n",
        "#@markdown **Note:** Please name the input file as 'input_data.csv' and upload. The converted file will be named 'input_converted.ris' \n",
        "#@markdown **Note:** Column names should be appropriate (e.g. 'title', 'abstract' etc.)\n",
        "\n",
        "%%R\n",
        "convert_csv_ris <- function(inFname, outFname){\n",
        "  df <- read.csv(inFname, stringsAsFactors = FALSE)\n",
        "  colnames(df) <- tolower(colnames(df)) # Note: colnames should be in small letters!\n",
        "  write_bibliography(df, outFname, format = \"ris\")\n",
        "}\n",
        "\n",
        "convert_csv_ris('input_data.csv', 'input_converted.ris')\n"
      ],
      "metadata": {
        "id": "Hbvz4_ogRxEl",
        "cellView": "form"
      },
      "execution_count": null,
      "outputs": []
    },
    {
      "cell_type": "code",
      "source": [
        "#@title concatenate multiple RIS to a single RIS { form-width: \"20%\" }\n",
        "#@markdown **Note:** Please upload the ris files. All ris files will be concatenated, and the concatenated file will appear as 'merged'.ris.\n",
        "\n",
        "%cat *.ris > merged.ris"
      ],
      "metadata": {
        "cellView": "form",
        "id": "MqIFo5vaVrYL"
      },
      "execution_count": null,
      "outputs": []
    },
    {
      "cell_type": "code",
      "source": [
        "#@title Split a large csv to smaller files { form-width: \"20%\" }\n",
        "#@markdown **Note:** Please edit the value of N (in the code below) to be number of rows needed in each file. If the input file is not an\n",
        "#@markdown exact multiple of N, the last split file will have the remainder of the rows. \n",
        "\n",
        "#@markdown Both csv and ris versions of split files will be generated\n",
        "\n",
        "\n",
        "%%R\n",
        "# Provide value for N\n",
        "N <- 10 # how many rows in each split portion. If an equal division is not possible, the last split will have remainder\n",
        "df <- read.csv('input_data.csv', stringsAsFactors = FALSE)\n",
        "nr <- nrow(df)\n",
        "print(paste('Total rows in csv:', nr, sep=\"\"))\n",
        "df_split <- split(df, rep(1:ceiling(nr/N), each = N, length.out = nr))\n",
        "for(i in 1:ceiling(nr/N)){\n",
        "    file_csv <- paste('split', i, '.csv', sep=\"\")\n",
        "    write.csv(df_split[[i]], file_csv, row.names = FALSE)\n",
        "    file_ris <- paste('split', i, '.ris', sep=\"\")\n",
        "    write_bibliography(df_split[[i]], file_ris, format = 'ris')\n",
        "}\n"
      ],
      "metadata": {
        "cellView": "form",
        "id": "j3pptwOyY1z9"
      },
      "execution_count": null,
      "outputs": []
    },
    {
      "cell_type": "code",
      "source": [
        "#@title Remove the smaller set of data (input_subset.csv) from a larger csv (input_full.csv) { form-width: \"20%\" }\n",
        "#@markdown Below code will give you input_full - input_subset (de-duping is done using eppi id)\n",
        "\n",
        "%%R\n",
        "full_db <- read_csv('input_full.csv')\n",
        "print(nrow(full_db))\n",
        "full_db[is.na(full_db)] <- \"\"\n",
        "subset <- read_csv('input_subset.csv')\n",
        "subset[is.na(subset)] <- \"\"\n",
        "diff <- anti_join(full_db,subset, by=\"eppi_id\")\n",
        "write.csv(diff, \"diff.csv\", row.names = FALSE)\n",
        "write_bibliographydiff, \"diff.ris\", format = \"ris\")"
      ],
      "metadata": {
        "cellView": "form",
        "id": "-GWUHE-YwM7z"
      },
      "execution_count": null,
      "outputs": []
    }
  ]
}